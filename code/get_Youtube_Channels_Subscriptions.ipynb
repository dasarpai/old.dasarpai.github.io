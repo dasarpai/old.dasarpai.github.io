{
  "cells": [
    {
      "cell_type": "code",
      "execution_count": 4,
      "metadata": {
        "colab": {
          "base_uri": "https://localhost:8080/"
        },
        "id": "u1fgUDOWVtab",
        "outputId": "a3f1aafd-4f75-4da6-fe05-5417eef2b955"
      },
      "outputs": [
        {
          "name": "stdout",
          "output_type": "stream",
          "text": [
            "Looking in indexes: https://pypi.org/simple, https://us-python.pkg.dev/colab-wheels/public/simple/\n",
            "Requirement already satisfied: google-auth in /usr/local/lib/python3.9/dist-packages (2.17.3)\n",
            "Requirement already satisfied: google-auth-oauthlib in /usr/local/lib/python3.9/dist-packages (1.0.0)\n",
            "Requirement already satisfied: google-auth-httplib2 in /usr/local/lib/python3.9/dist-packages (0.1.0)\n",
            "Requirement already satisfied: google-api-python-client in /usr/local/lib/python3.9/dist-packages (2.84.0)\n",
            "Requirement already satisfied: pyasn1-modules>=0.2.1 in /usr/local/lib/python3.9/dist-packages (from google-auth) (0.2.8)\n",
            "Requirement already satisfied: rsa<5,>=3.1.4 in /usr/local/lib/python3.9/dist-packages (from google-auth) (4.9)\n",
            "Requirement already satisfied: six>=1.9.0 in /usr/local/lib/python3.9/dist-packages (from google-auth) (1.16.0)\n",
            "Requirement already satisfied: cachetools<6.0,>=2.0.0 in /usr/local/lib/python3.9/dist-packages (from google-auth) (5.3.0)\n",
            "Requirement already satisfied: requests-oauthlib>=0.7.0 in /usr/local/lib/python3.9/dist-packages (from google-auth-oauthlib) (1.3.1)\n",
            "Requirement already satisfied: httplib2>=0.15.0 in /usr/local/lib/python3.9/dist-packages (from google-auth-httplib2) (0.21.0)\n",
            "Requirement already satisfied: google-api-core!=2.0.*,!=2.1.*,!=2.2.*,!=2.3.0,<3.0.0dev,>=1.31.5 in /usr/local/lib/python3.9/dist-packages (from google-api-python-client) (2.11.0)\n",
            "Requirement already satisfied: uritemplate<5,>=3.0.1 in /usr/local/lib/python3.9/dist-packages (from google-api-python-client) (4.1.1)\n",
            "Requirement already satisfied: googleapis-common-protos<2.0dev,>=1.56.2 in /usr/local/lib/python3.9/dist-packages (from google-api-core!=2.0.*,!=2.1.*,!=2.2.*,!=2.3.0,<3.0.0dev,>=1.31.5->google-api-python-client) (1.59.0)\n",
            "Requirement already satisfied: requests<3.0.0dev,>=2.18.0 in /usr/local/lib/python3.9/dist-packages (from google-api-core!=2.0.*,!=2.1.*,!=2.2.*,!=2.3.0,<3.0.0dev,>=1.31.5->google-api-python-client) (2.27.1)\n",
            "Requirement already satisfied: protobuf!=3.20.0,!=3.20.1,!=4.21.0,!=4.21.1,!=4.21.2,!=4.21.3,!=4.21.4,!=4.21.5,<5.0.0dev,>=3.19.5 in /usr/local/lib/python3.9/dist-packages (from google-api-core!=2.0.*,!=2.1.*,!=2.2.*,!=2.3.0,<3.0.0dev,>=1.31.5->google-api-python-client) (3.20.3)\n",
            "Requirement already satisfied: pyparsing!=3.0.0,!=3.0.1,!=3.0.2,!=3.0.3,<4,>=2.4.2 in /usr/local/lib/python3.9/dist-packages (from httplib2>=0.15.0->google-auth-httplib2) (3.0.9)\n",
            "Requirement already satisfied: pyasn1<0.5.0,>=0.4.6 in /usr/local/lib/python3.9/dist-packages (from pyasn1-modules>=0.2.1->google-auth) (0.4.8)\n",
            "Requirement already satisfied: oauthlib>=3.0.0 in /usr/local/lib/python3.9/dist-packages (from requests-oauthlib>=0.7.0->google-auth-oauthlib) (3.2.2)\n",
            "Requirement already satisfied: urllib3<1.27,>=1.21.1 in /usr/local/lib/python3.9/dist-packages (from requests<3.0.0dev,>=2.18.0->google-api-core!=2.0.*,!=2.1.*,!=2.2.*,!=2.3.0,<3.0.0dev,>=1.31.5->google-api-python-client) (1.26.15)\n",
            "Requirement already satisfied: idna<4,>=2.5 in /usr/local/lib/python3.9/dist-packages (from requests<3.0.0dev,>=2.18.0->google-api-core!=2.0.*,!=2.1.*,!=2.2.*,!=2.3.0,<3.0.0dev,>=1.31.5->google-api-python-client) (3.4)\n",
            "Requirement already satisfied: charset-normalizer~=2.0.0 in /usr/local/lib/python3.9/dist-packages (from requests<3.0.0dev,>=2.18.0->google-api-core!=2.0.*,!=2.1.*,!=2.2.*,!=2.3.0,<3.0.0dev,>=1.31.5->google-api-python-client) (2.0.12)\n",
            "Requirement already satisfied: certifi>=2017.4.17 in /usr/local/lib/python3.9/dist-packages (from requests<3.0.0dev,>=2.18.0->google-api-core!=2.0.*,!=2.1.*,!=2.2.*,!=2.3.0,<3.0.0dev,>=1.31.5->google-api-python-client) (2022.12.7)\n"
          ]
        }
      ],
      "source": [
        "!pip install google-auth google-auth-oauthlib google-auth-httplib2 google-api-python-client\n"
      ]
    },
    {
      "cell_type": "code",
      "execution_count": 1,
      "metadata": {
        "id": "6GWMMFlGLnmt"
      },
      "outputs": [],
      "source": [
        "import os\n",
        "import google_auth_oauthlib.flow\n",
        "import googleapiclient.discovery\n",
        "import googleapiclient.errors\n",
        "\n",
        "\n",
        "def get_authenticated_service():\n",
        "    # Set up credentials\n",
        "    scopes = [\"https://www.googleapis.com/auth/youtube.readonly\"]\n",
        "    client_secrets_file = r\"google-api-client_secret.apps.googleusercontent.com.json\"  # Replace with your client secrets file\n",
        "\n",
        "    flow = google_auth_oauthlib.flow.InstalledAppFlow.from_client_secrets_file(\n",
        "        client_secrets_file, scopes\n",
        "    )\n",
        "    credentials = flow.run_local_server(port=0)\n",
        "    youtube = googleapiclient.discovery.build(\"youtube\", \"v3\", credentials=credentials)\n",
        "    return youtube"
      ]
    },
    {
      "cell_type": "code",
      "execution_count": 2,
      "metadata": {
        "id": "hCd7C2sbL-Pj"
      },
      "outputs": [
        {
          "name": "stdout",
          "output_type": "stream",
          "text": [
            "Please visit this URL to authorize this application: https://accounts.google.com/o/oauth2/auth?response_type=code&client_id=913981478567-kv7vsikg270e76b9irdul1kesh56bbb3.apps.googleusercontent.com&redirect_uri=http%3A%2F%2Flocalhost%3A56553%2F&scope=https%3A%2F%2Fwww.googleapis.com%2Fauth%2Fyoutube.readonly&state=iV9NbnNUinlBaDLrKPqIv9qI9T0RlA&access_type=offline\n"
          ]
        }
      ],
      "source": [
        "# Get authenticated service\n",
        "youtube = get_authenticated_service()"
      ]
    },
    {
      "cell_type": "code",
      "execution_count": 3,
      "metadata": {},
      "outputs": [],
      "source": [
        "def get_subscribed_channels(youtube):\n",
        "    subscribed_channels = []\n",
        "\n",
        "    # Get first page of subscribed channels\n",
        "    request = youtube.subscriptions().list(\n",
        "        part=\"snippet\",\n",
        "        mine=True,\n",
        "        maxResults=50\n",
        "    )\n",
        "\n",
        "    while request is not None:\n",
        "        response = request.execute()\n",
        "        for item in response.get(\"items\", []):\n",
        "            channel_title = item[\"snippet\"][\"title\"]\n",
        "            channel_id = item[\"snippet\"][\"resourceId\"][\"channelId\"]\n",
        "\n",
        "            # Fetch channel statistics\n",
        "            channel_data = youtube.channels().list(\n",
        "                part=\"statistics,snippet\",\n",
        "                id=channel_id\n",
        "            ).execute()\n",
        "\n",
        "            video_count = channel_data[\"items\"][0][\"statistics\"][\"videoCount\"]\n",
        "            subscriber_count = channel_data[\"items\"][0][\"statistics\"][\"subscriberCount\"]\n",
        "            channel_description = channel_data[\"items\"][0][\"snippet\"][\"description\"]\n",
        "\n",
        "            subscribed_channels.append((channel_title, channel_id, video_count, subscriber_count, channel_description))\n",
        "\n",
        "        request = youtube.subscriptions().list_next(request, response)\n",
        "\n",
        "    return subscribed_channels"
      ]
    },
    {
      "cell_type": "code",
      "execution_count": null,
      "metadata": {},
      "outputs": [],
      "source": [
        "# Get subscribed channels with additional information\n",
        "subscribed_channels = get_subscribed_channels(youtube)"
      ]
    },
    {
      "cell_type": "code",
      "execution_count": 10,
      "metadata": {},
      "outputs": [
        {
          "data": {
            "text/plain": [
              "442"
            ]
          },
          "execution_count": 10,
          "metadata": {},
          "output_type": "execute_result"
        }
      ],
      "source": [
        "len(subscribed_channels)"
      ]
    },
    {
      "cell_type": "code",
      "execution_count": 19,
      "metadata": {},
      "outputs": [],
      "source": [
        "import pandas as pd \n",
        "df = pd.DataFrame({'sno': range(0, len(subscribed_channels))})"
      ]
    },
    {
      "cell_type": "code",
      "execution_count": 20,
      "metadata": {},
      "outputs": [],
      "source": [
        "df[\"Title\"]=\"\"\n",
        "df[\"Channel ID\"]=\"\"\n",
        "df[\"Video Count\"]=\"\"\n",
        "df[\"Subscriber Count\"]=\"\"\n",
        "df[\"Description\"]= \"\""
      ]
    },
    {
      "cell_type": "code",
      "execution_count": 24,
      "metadata": {},
      "outputs": [],
      "source": [
        "# Print the list of subscribed channels with additional information\n",
        "i=0\n",
        "for channel_title, channel_id, video_count, subscriber_count, channel_description in subscribed_channels:\n",
        "    df.loc[i,\"Title\"]=channel_title\n",
        "    df.loc[i,\"Channel ID\"]= channel_id\n",
        "    df.loc[i,\"Video Count\"]= video_count\n",
        "    df.loc[i,\"Subscriber Count\"]= subscriber_count\n",
        "    df.loc[i,\"Description\"] = channel_description\n",
        "    i+=1"
      ]
    },
    {
      "cell_type": "code",
      "execution_count": null,
      "metadata": {},
      "outputs": [],
      "source": [
        "df"
      ]
    }
  ],
  "metadata": {
    "colab": {
      "provenance": []
    },
    "kernelspec": {
      "display_name": "Python 3",
      "name": "python3"
    },
    "language_info": {
      "codemirror_mode": {
        "name": "ipython",
        "version": 3
      },
      "file_extension": ".py",
      "mimetype": "text/x-python",
      "name": "python",
      "nbconvert_exporter": "python",
      "pygments_lexer": "ipython3",
      "version": "3.10.9"
    }
  },
  "nbformat": 4,
  "nbformat_minor": 0
}
