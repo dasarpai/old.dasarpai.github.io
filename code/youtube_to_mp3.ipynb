{
 "cells": [
  {
   "cell_type": "code",
   "execution_count": 2,
   "metadata": {},
   "outputs": [
    {
     "name": "stdout",
     "output_type": "stream",
     "text": [
      "Collecting pytube\n",
      "  Downloading pytube-15.0.0-py3-none-any.whl.metadata (5.0 kB)\n",
      "Requirement already satisfied: pydub in c:\\python312\\lib\\site-packages (0.25.1)\n",
      "Downloading pytube-15.0.0-py3-none-any.whl (57 kB)\n",
      "Installing collected packages: pytube\n"
     ]
    },
    {
     "name": "stderr",
     "output_type": "stream",
     "text": [
      "  WARNING: Failed to write executable - trying to use .deleteme logic\n",
      "ERROR: Could not install packages due to an OSError: [WinError 2] The system cannot find the file specified: 'C:\\\\Python312\\\\Scripts\\\\pytube.exe' -> 'C:\\\\Python312\\\\Scripts\\\\pytube.exe.deleteme'\n",
      "\n"
     ]
    }
   ],
   "source": [
    "!pip install pytube pydub\n"
   ]
  },
  {
   "cell_type": "code",
   "execution_count": 3,
   "metadata": {},
   "outputs": [
    {
     "name": "stdout",
     "output_type": "stream",
     "text": [
      "An error occurred: your_video_ is unavailable\n"
     ]
    }
   ],
   "source": [
    "from pytube import YouTube\n",
    "from pydub import AudioSegment\n",
    "import os\n",
    "\n",
    "def download_and_convert_youtube_to_mp3(video_url, output_folder=\"output\"):\n",
    "    # Create output folder if it doesn't exist\n",
    "    if not os.path.exists(output_folder):\n",
    "        os.makedirs(output_folder)\n",
    "\n",
    "    try:\n",
    "        # Download the YouTube video\n",
    "        yt = YouTube(video_url)\n",
    "        video_title = yt.title\n",
    "        print(f\"Downloading: {video_title}\")\n",
    "        \n",
    "        # Get the audio stream with the highest quality\n",
    "        audio_stream = yt.streams.filter(only_audio=True).first()\n",
    "        output_file = audio_stream.download(output_folder)\n",
    "        \n",
    "        # Convert to MP3\n",
    "        print(f\"Converting to MP3...\")\n",
    "        base, ext = os.path.splitext(output_file)\n",
    "        mp3_file = base + '.mp3'\n",
    "        \n",
    "        # Use pydub to convert\n",
    "        audio = AudioSegment.from_file(output_file)\n",
    "        audio.export(mp3_file, format=\"mp3\")\n",
    "        \n",
    "        # Remove the original file\n",
    "        os.remove(output_file)\n",
    "        \n",
    "        print(f\"Conversion complete. File saved as: {mp3_file}\")\n",
    "    except Exception as e:\n",
    "        print(f\"An error occurred: {e}\")\n",
    "\n",
    "\n"
   ]
  },
  {
   "cell_type": "code",
   "execution_count": 5,
   "metadata": {},
   "outputs": [
    {
     "name": "stdout",
     "output_type": "stream",
     "text": [
      "An error occurred: Exception while accessing title of https://youtube.com/watch?v=8drHwuak2Bk. Please file a bug report at https://github.com/pytube/pytube\n"
     ]
    }
   ],
   "source": [
    "# Example usage\n",
    "video_url = \"https://www.youtube.com/watch?v=8drHwuak2Bk\"\n",
    "download_and_convert_youtube_to_mp3(video_url)"
   ]
  }
 ],
 "metadata": {
  "kernelspec": {
   "display_name": "Python 3",
   "language": "python",
   "name": "python3"
  },
  "language_info": {
   "codemirror_mode": {
    "name": "ipython",
    "version": 3
   },
   "file_extension": ".py",
   "mimetype": "text/x-python",
   "name": "python",
   "nbconvert_exporter": "python",
   "pygments_lexer": "ipython3",
   "version": "3.12.4"
  }
 },
 "nbformat": 4,
 "nbformat_minor": 2
}
