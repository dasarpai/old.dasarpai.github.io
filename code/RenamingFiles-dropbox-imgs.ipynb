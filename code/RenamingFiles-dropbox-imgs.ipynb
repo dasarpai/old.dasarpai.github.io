{
 "cells": [
  {
   "cell_type": "code",
   "execution_count": 1,
   "id": "6329d802",
   "metadata": {},
   "outputs": [],
   "source": [
    "import os"
   ]
  },
  {
   "cell_type": "code",
   "execution_count": 5,
   "id": "a149fdba",
   "metadata": {},
   "outputs": [],
   "source": [
    "mypath = r'D:\\02-Cloud\\Dropbox'"
   ]
  },
  {
   "cell_type": "code",
   "execution_count": 6,
   "id": "071392cf",
   "metadata": {},
   "outputs": [],
   "source": [
    "from os import walk\n",
    "\n",
    "files = []\n",
    "for (dirpath, dirnames, filenames) in walk(mypath):\n",
    "    files.extend(filenames)\n",
    "    break"
   ]
  },
  {
   "cell_type": "code",
   "execution_count": null,
   "id": "51352406",
   "metadata": {},
   "outputs": [],
   "source": [
    "for f in files:\n",
    "    if \"Screenshot\" in f:\n",
    "        oldfile = mypath+ \"\\\\\"+f\n",
    "        sp = f.split(\"_\")\n",
    "        newfile= mypath+ \"\\\\\" + sp[1]+\"_\"+sp[2] +\".jpg\"\n",
    "        print (\"Renaming \" + oldfile +\" to \" + newfile)\n",
    "        os.rename( oldfile, newfile)"
   ]
  },
  {
   "cell_type": "code",
   "execution_count": 16,
   "id": "abf8dde9",
   "metadata": {},
   "outputs": [
    {
     "data": {
      "text/plain": [
       "[]"
      ]
     },
     "execution_count": 16,
     "metadata": {},
     "output_type": "execute_result"
    }
   ],
   "source": [
    "files"
   ]
  },
  {
   "cell_type": "code",
   "execution_count": null,
   "id": "fdfae04c",
   "metadata": {},
   "outputs": [],
   "source": []
  }
 ],
 "metadata": {
  "kernelspec": {
   "display_name": "Python 3",
   "language": "python",
   "name": "python3"
  },
  "language_info": {
   "codemirror_mode": {
    "name": "ipython",
    "version": 3
   },
   "file_extension": ".py",
   "mimetype": "text/x-python",
   "name": "python",
   "nbconvert_exporter": "python",
   "pygments_lexer": "ipython3",
   "version": "3.8.8"
  }
 },
 "nbformat": 4,
 "nbformat_minor": 5
}
